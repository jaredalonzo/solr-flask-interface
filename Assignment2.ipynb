{
 "cells": [
  {
   "cell_type": "code",
   "execution_count": 1,
   "metadata": {},
   "outputs": [],
   "source": []
  },
  {
   "cell_type": "code",
   "execution_count": 2,
   "metadata": {},
   "outputs": [],
   "source": [
    "import os\n",
    "\n",
    "products_collection_name = 'amazon-products'\n",
    "reviews_collection_name = 'amazon-reviews'\n",
    "reviews_path = os.path.join(os.getcwd(), reviews_collection_name)\n",
    "products_path = os.path.join(os.getcwd(), products_collection_name)\n",
    "create_collection(reviews_path, reviews_collection_name)\n",
    "create_collection(products_path, products_collection_name)"
   ]
  },
  {
   "cell_type": "code",
   "execution_count": 3,
   "metadata": {},
   "outputs": [],
   "source": [
    "import html\n",
    "    \n",
    "def product_json(filename):\n",
    "    list_of_dictionaries = []\n",
    "    for item in open(filename):\n",
    "        dict = {}\n",
    "        line = eval('(' + item + ')')\n",
    "        if 'title' in line:\n",
    "            dict.update({'title': html.unescape(line['title'])})\n",
    "        else:\n",
    "            continue\n",
    "        if 'description' in line:\n",
    "            dict.update({'description': html.unescape(line['description'])})\n",
    "        if 'price' in line:\n",
    "            dict.update({'price': float('{:.2f}'.format(line['price']))})\n",
    "        dict.update({'asin': line['asin']})\n",
    "        list_of_dictionaries.append(dict)\n",
    "    return list_of_dictionaries\n",
    "\n",
    "def review_json(filename, products):\n",
    "    list_of_dictionaries = []\n",
    "    product_asins = [x['asin'] for x in products]\n",
    "    for item in open(filename):\n",
    "        dict = {}\n",
    "        line = eval('(' + item + ')')\n",
    "        if line['asin'] in product_asins:\n",
    "            dict.update({'reviewText': line['reviewText']})\n",
    "            dict.update({'overall': int(line['overall'])})\n",
    "            dict.update({'summary': line['summary']})\n",
    "            dict.update({'asin': line['asin']})\n",
    "            list_of_dictionaries.append(dict)\n",
    "    return list_of_dictionaries"
   ]
  },
  {
   "cell_type": "code",
   "execution_count": 4,
   "metadata": {
    "scrolled": false
   },
   "outputs": [],
   "source": [
    "import pysolr\n",
    "def index_to_solr(data, port=8983, collection_name=''):\n",
    "    solr = pysolr.Solr(f'http://localhost:{port}/solr/{collection_name}')\n",
    "    solr.add(data, commit=True)\n",
    "\n",
    "def index_document(product_filename, review_filename):\n",
    "    products = product_json(product_filename)\n",
    "    reviews = review_json(review_filename, products)\n",
    "    index_to_solr(products, collection_name=products_collection_name)\n",
    "    index_to_solr(reviews, collection_name=reviews_collection_name)"
   ]
  },
  {
   "cell_type": "code",
   "execution_count": 5,
   "metadata": {},
   "outputs": [],
   "source": []
  },
  {
   "cell_type": "markdown",
   "metadata": {},
   "source": [
    "# Documentation\n",
    "In order to run the application, you must first do `pip install flask-bootstrap`.\n",
    "\n",
    "Running the code will execute (in order):\n",
    "    *index the .txt files into two json arrays named `products` and `reviews`. \n",
    "    *index the two json arrays to solr.\n",
    "    \n",
    "-------\n",
    "# Assumptions\n",
    "`flask & jinja` libraries are already installed"
   ]
  }
 ],
 "metadata": {
  "kernelspec": {
   "display_name": "Python 3",
   "language": "python",
   "name": "python3"
  },
  "language_info": {
   "codemirror_mode": {
    "name": "ipython",
    "version": 3
   },
   "file_extension": ".py",
   "mimetype": "text/x-python",
   "name": "python",
   "nbconvert_exporter": "python",
   "pygments_lexer": "ipython3",
   "version": "3.7.2"
  }
 },
 "nbformat": 4,
 "nbformat_minor": 2
}
