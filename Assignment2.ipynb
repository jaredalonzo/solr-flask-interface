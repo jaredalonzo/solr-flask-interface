{
 "cells": [
  {
   "cell_type": "code",
   "execution_count": null,
   "metadata": {},
   "outputs": [],
   "source": []
  },
  {
   "cell_type": "code",
   "execution_count": 76,
   "metadata": {},
   "outputs": [],
   "source": [
    "import subprocess\n",
    "SOLR_EXECUTABLE = '/usr/local/Cellar/solr/8.0.0/bin/solr'\n",
    "def solr_command(*args):\n",
    "    return subprocess.check_output([SOLR_EXECUTABLE] + list(args))\n",
    "def create_collection(config_dir, collection_name):\n",
    "    solr_command('create_core', '-c', collection_name, '-d', config_dir)"
   ]
  },
  {
   "cell_type": "code",
   "execution_count": 105,
   "metadata": {},
   "outputs": [],
   "source": [
    "reviews_path = '/Users/jaredalonzo/Computer Science/CS4910 Text Processing & Search/hw2-submission/amazon-reviews'\n",
    "products_path = '/Users/jaredalonzo/Computer Science/CS4910 Text Processing & Search/hw2-submission/amazon-products'\n",
    "create_collection(reviews_path, 'amazon-reviews')\n",
    "create_collection(products_path, 'amazon-products')"
   ]
  },
  {
   "cell_type": "code",
   "execution_count": 113,
   "metadata": {},
   "outputs": [],
   "source": [
    "import html\n",
    "    \n",
    "def product_json(filename):\n",
    "    list_of_dictionaries = []\n",
    "    for item in open(filename):\n",
    "        dict = {}\n",
    "        line = eval('(' + item + ')')\n",
    "        if 'title' in line:\n",
    "            dict.update({'title': html.unescape(line['title'])})\n",
    "        else:\n",
    "            continue\n",
    "        if 'description' in line:\n",
    "            dict.update({'description': html.unescape(line['description'])})\n",
    "        if 'price' in line:\n",
    "            dict.update({'price': float(line['price'])})\n",
    "        dict.update({'asin': line['asin']})\n",
    "        list_of_dictionaries.append(dict)\n",
    "    return list_of_dictionaries\n",
    "\n",
    "def review_json(filename, products):\n",
    "    list_of_dictionaries = []\n",
    "    product_asins = [x['asin'] for x in products]\n",
    "    for item in open(filename):\n",
    "        dict = {}\n",
    "        line = eval('(' + item + ')')\n",
    "        if line['asin'] in products:\n",
    "            dict.update({'reviewText': line['reviewText']})\n",
    "            dict.update({'overall': int(line['overall'])})\n",
    "            dict.update({'summary': line['summary']})\n",
    "            dict.update({'asin': line['asin']})\n",
    "            list_of_dictionaries.append(dict)\n",
    "    return list_of_dictionaries"
   ]
  },
  {
   "cell_type": "code",
   "execution_count": null,
   "metadata": {
    "scrolled": false
   },
   "outputs": [],
   "source": [
    "products = product_json(\"medium_asin_data.txt\")\n",
    "reviews = review_json(\"medium_review_data.txt\", products)"
   ]
  },
  {
   "cell_type": "code",
   "execution_count": 106,
   "metadata": {
    "scrolled": true
   },
   "outputs": [],
   "source": [
    "import pysolr\n",
    "def index(data, port=8983, collection_name=''):\n",
    "    solr = pysolr.Solr(f'http://localhost:{port}/solr/{collection_name}')\n",
    "    solr.add(data, commit=True)"
   ]
  },
  {
   "cell_type": "code",
   "execution_count": 107,
   "metadata": {},
   "outputs": [],
   "source": [
    "index(reviews, collection_name='amazon-reviews')"
   ]
  },
  {
   "cell_type": "code",
   "execution_count": 111,
   "metadata": {},
   "outputs": [],
   "source": [
    "index(products, collection_name='amazon-products')"
   ]
  }
 ],
 "metadata": {
  "kernelspec": {
   "display_name": "Python 3",
   "language": "python",
   "name": "python3"
  },
  "language_info": {
   "codemirror_mode": {
    "name": "ipython",
    "version": 3
   },
   "file_extension": ".py",
   "mimetype": "text/x-python",
   "name": "python",
   "nbconvert_exporter": "python",
   "pygments_lexer": "ipython3",
   "version": "3.7.2"
  }
 },
 "nbformat": 4,
 "nbformat_minor": 2
}
