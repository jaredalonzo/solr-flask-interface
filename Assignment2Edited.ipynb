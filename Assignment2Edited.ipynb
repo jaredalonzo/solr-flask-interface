{
 "cells": [
  {
   "cell_type": "code",
   "execution_count": null,
   "metadata": {},
   "outputs": [],
   "source": [
    "# Leave this cell blank -- I will put my definition of create_collection here.\n",
    "# Recall that the signature:  create_collection(config_dir, collection_name)"
   ]
  },
  {
   "cell_type": "code",
   "execution_count": null,
   "metadata": {},
   "outputs": [],
   "source": [
    "# Code to create your collection(s)\n",
    "#  This should be one or more calls to create_collection. The path \n",
    "#  names you use must be relative path names (i.e. relative to the working\n",
    "#  directory, which will be the same directory in which your solution notebook is located).\n",
    "# Please define any pathnames you use as constants at the beginning of this cell"
   ]
  },
  {
   "cell_type": "code",
   "execution_count": null,
   "metadata": {},
   "outputs": [],
   "source": [
    "def product_json(filename):\n",
    "    #  YOUR CODE HERE\n",
    "    return list_of_dictionaries\n",
    "\n",
    "def review_json(filename, products):\n",
    "    # YOUR CODE HERE\n",
    "    return list_of_dictionaries"
   ]
  },
  {
   "cell_type": "code",
   "execution_count": null,
   "metadata": {},
   "outputs": [],
   "source": [
    "# Code to index your data -- when executed, this code cell should index\n",
    "# your documents.  This code function must call the functions product_json\n",
    "# and review_json.   The code can assume that your collections have already\n",
    "# been created, and that SOLR is running on localhost:8983\n",
    "\n",
    "def index_documents(product_filename, review_filename):\n",
    "    # YOUR CODE HERE\n",
    "    return None"
   ]
  },
  {
   "cell_type": "code",
   "execution_count": null,
   "metadata": {},
   "outputs": [],
   "source": [
    "# Leave this cell blank.  I will insert code that calls index_documents\n",
    "# using two files that I will first copy into the directory containing\n",
    "# this notebook"
   ]
  },
  {
   "cell_type": "markdown",
   "metadata": {},
   "source": [
    "This cell may be code or markdown.  It contains code or instructions on how to start\n",
    "your Flask application.  Your Flask application can assume that SOLR is running on localhost:8983,\n",
    "that your collections have been created, and that your documents have been indexed."
   ]
  }
 ],
 "metadata": {
  "kernelspec": {
   "display_name": "Python 3",
   "language": "python",
   "name": "python3"
  },
  "language_info": {
   "codemirror_mode": {
    "name": "ipython",
    "version": 3
   },
   "file_extension": ".py",
   "mimetype": "text/x-python",
   "name": "python",
   "nbconvert_exporter": "python",
   "pygments_lexer": "ipython3",
   "version": "3.7.2"
  }
 },
 "nbformat": 4,
 "nbformat_minor": 2
}
